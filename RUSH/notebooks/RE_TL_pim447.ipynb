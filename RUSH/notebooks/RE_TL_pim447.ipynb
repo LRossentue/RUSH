{
 "cells": [
  {
   "cell_type": "code",
   "execution_count": 1,
   "metadata": {},
   "outputs": [
    {
     "data": {
      "image/png": "[encoded data removed]",
      "text/plain": [
       "<rdkit.Chem.rdchem.Mol at 0x7f4bbf92a3f0>"
      ]
     },
     "execution_count": 1,
     "metadata": {},
     "output_type": "execute_result"
    }
   ],
   "source": [
    "# load dependencies\n",
    "import os, re\n",
    "import json\n",
    "import shutil\n",
    "import tempfile\n",
    "import rdkit\n",
    "from rdkit import Chem\n",
    "from rdkit.Chem import Draw\n",
    "\n",
    "# if not unique and overwrite, will delete the previous results of the same name!\n",
    "ligand = \"pim447\"\n",
    "job_id = \"TL\"\n",
    "job_name = f\"RE_{ligand}_{job_id}\"\n",
    "\n",
    "epochs = 20\n",
    "\n",
    "# --------- change these path variables as required\n",
    "reinvent_dir = os.path.expanduser(\"~/repos/Reinvent\")\n",
    "reinvent_env = os.path.expanduser(\"~/anaconda3/envs/reinvent.v3.2\")\n",
    "output_dir = os.path.expanduser(f\"~/.../RE/results/{job_name}\")\n",
    "\n",
    "# --------- do not change\n",
    "# get the notebook's root path\n",
    "try: ipynb_path\n",
    "except NameError: ipynb_path = os.getcwd()\n",
    "\n",
    "# if required, generate a folder to store the results\n",
    "overwrite = False\n",
    "try:\n",
    "    os.mkdir(output_dir)\n",
    "except FileExistsError:\n",
    "    if overwrite:\n",
    "        shutil.rmtree(output_dir)\n",
    "        os.mkdir(output_dir)\n",
    "    else:\n",
    "        pass\n",
    "\n",
    "ligands = {\n",
    "    \"pim447\" : Chem.MolFromSmiles(\"O=C(c1c([H])c([H])c(F)[c@@]([c@@]2c(F)c([H])c([H])c([H])c2F)n1)N(c3c([H])nc([H])c([H])c3[C@@]4([H])C([H])([H])[C@](N([H])[H])([H])C([H])([H])[C@@](C4([H])[H])([H])C([H])([H])[H])[H]\"),\n",
    "    \"aha006\" : Chem.MolFromSmiles(\"O=S1(N(Cc2ccccc2)[C@H](COc3ccccc3)[C@H](O)[C@@H](O)[C@@H](COc4ccccc4)N1Cc5ccccc5)=O\"),\n",
    "    \"sr3737\" : Chem.MolFromSmiles(\"COc1c(OC)c(OC)cc(NC(c2cccc(n3ncc4c3ccc(Nc5c(F)cccc5)c4)c2)=O)c1\"),\n",
    "    \"lre001\" : Chem.MolFromSmiles(\"Nc1nc(N(C2CC2)Cc3sccc3)cc(Cl)n1\"),\n",
    "}\n",
    "input_model_path = f\"{ipynb_path}/models/guacamol.prior\"\n",
    "input_smi_path = f\"{output_dir}/{ligand}.smi\"\n",
    "with open(input_smi_path, 'w') as f: f.write(Chem.MolToSmiles(ligands[ligand], canonical=True, kekuleSmiles=False, isomericSmiles=False))\n",
    "ligands[ligand]"
   ]
  },
  {
   "cell_type": "code",
   "execution_count": 2,
   "metadata": {},
   "outputs": [],
   "source": [
    "# initialize the dictionary\n",
    "configuration = {\n",
    "    \"version\": 3,                          # we are going to use REINVENT's newest release\n",
    "    \"run_type\": \"transfer_learning\",       # other run types: \"scoring\", \"validation\",\n",
    "                                           #                  \"transfer_learning\",\n",
    "                                           #                  \"reinforcement_learning\" and\n",
    "                                           #                  \"create_model\"\n",
    "    \"model_type\": \"default\"\n",
    "}"
   ]
  },
  {
   "cell_type": "code",
   "execution_count": 3,
   "metadata": {},
   "outputs": [],
   "source": [
    "# add block to specify whether to run locally or not and\n",
    "# where to store the results and logging\n",
    "configuration[\"logging\"] = {\n",
    "    \"sender\": \"http://127.0.0.1\",          # only relevant if \"recipient\" is set to \"remote\"\n",
    "    \"recipient\": \"local\",                  # either to local logging or use a remote REST-interface\n",
    "    \"logging_path\": os.path.join(output_dir, \"progress.log\"), # where the run's output is stored\n",
    "    \"job_name\": job_name, # set an arbitrary job name for identification\n",
    "    \"job_id\": job_id                       # only relevant if \"recipient\" is set to \"remote\"\n",
    "}"
   ]
  },
  {
   "cell_type": "code",
   "execution_count": 4,
   "metadata": {},
   "outputs": [],
   "source": [
    "adaptive_lr_config = {\n",
    "      \"mode\": \"constant\", # other modes: \"exponential\", \"adaptive\", \"constant\"\n",
    "      \"gamma\": 0.8,\n",
    "      \"step\": 1,\n",
    "      \"start\": 5E-4,\n",
    "      \"min\": 1E-5,\n",
    "      \"threshold\": 1E-4,\n",
    "      \"average_steps\": 4,\n",
    "      \"patience\": 8,\n",
    "      \"restart_value\": 1E-5,\n",
    "      \"sample_size\": 2000,\n",
    "      \"restart_times\": 0\n",
    "    }"
   ]
  },
  {
   "cell_type": "code",
   "execution_count": 5,
   "metadata": {},
   "outputs": [],
   "source": [
    "output_model_path = os.path.join(output_dir, f\"guacamol_{ligand}.agent\") \\\n",
    "# The final focused agent will be named \"focused.agent\"\n",
    "# The intermediate steps will be named \"focused.agent.1\", \"focused.agent.2\", \"focused.agent.3\" and etc.\n",
    "\n",
    "# add the \"parameters\" block\n",
    "configuration[\"parameters\"] = {\n",
    "    \"input_model_path\": input_model_path,\n",
    "    \"output_model_path\": output_model_path,             # location to store the focused agent\n",
    "    \"input_smiles_path\": input_smi_path,\n",
    "    \"save_every_n_epochs\": 1,      # how often to save the focused Agent. Here it's stored after each epoch\n",
    "    \"batch_size\": 1,             # batch size the input data\n",
    "    \"num_epochs\": epochs,              # number of epochs to focus the agent for\n",
    "    \"standardize\": True,           # the input may contain SMILES strings that are invalid according to the agent\n",
    "                                   # this atempts to clean up the input dataset\n",
    "    \"shuffle_each_epoch\": False,   # manual edit to fix cuda bug with torch. Shouldn't matter since n=1.\n",
    "    \"randomize\": True,             # this triggers data augmentation which is quite important for small datasets\n",
    "    \"adaptive_lr_config\": adaptive_lr_config        # setting the learning rate behavior\n",
    "    \n",
    "    \n",
    "}"
   ]
  },
  {
   "cell_type": "code",
   "execution_count": 6,
   "metadata": {},
   "outputs": [],
   "source": [
    "# write the configuration file to the disc\n",
    "configuration_JSON_path = os.path.join(output_dir, \"transfer_learning_config.json\")\n",
    "with open(configuration_JSON_path, 'w') as f:\n",
    "    json.dump(configuration, f, indent=4, sort_keys=True)"
   ]
  },
  {
   "cell_type": "markdown",
   "metadata": {},
   "source": [
    "## Run `REINVENT`\n",
    "Now it is time to execute `REINVENT` locally. \n",
    "\n",
    "The command-line execution looks like this:\n",
    "```\n",
    "# activate envionment\n",
    "conda activate reinvent.v3.2\n",
    "\n",
    "# execute REINVENT\n",
    "python <your_path>/input.py <config>.json\n",
    "```"
   ]
  },
  {
   "cell_type": "code",
   "execution_count": 7,
   "metadata": {},
   "outputs": [],
   "source": [
    "%%capture captured_err_stream --no-stderr\n",
    "\n",
    "# execute REINVENT from the command-line\n",
    "!{reinvent_env}/bin/python {reinvent_dir}/input.py {configuration_JSON_path}"
   ]
  },
  {
   "cell_type": "code",
   "execution_count": null,
   "metadata": {},
   "outputs": [],
   "source": [
    "# print the output to a file, just to have it for documentation\n",
    "with open(os.path.join(output_dir, \"run.err\"), 'w') as file:\n",
    "    file.write(captured_err_stream.stdout)"
   ]
  },
  {
   "cell_type": "markdown",
   "metadata": {},
   "source": [
    "## Analyse the results\n",
    "In order to analyze the run in a more intuitive way, we can use `tensorboard`:\n",
    "\n",
    "```\n",
    "# go to the root folder of the output\n",
    "cd <your_path>/REINVENT_transfer_learning_demo\n",
    "\n",
    "# make sure, you have activated the proper environment\n",
    "conda activate reinvent.v3.2\n",
    "\n",
    "# start tensorboard\n",
    "tensorboard --logdir progress.log\n",
    "```\n"
   ]
  }
 ],
 "metadata": {
  "kernelspec": {
   "display_name": "Python 3",
   "language": "python",
   "name": "python3"
  },
  "language_info": {
   "codemirror_mode": {
    "name": "ipython",
    "version": 3
   },
   "file_extension": ".py",
   "mimetype": "text/x-python",
   "name": "python",
   "nbconvert_exporter": "python",
   "pygments_lexer": "ipython3",
   "version": "3.7.7"
  }
 },
 "nbformat": 4,
 "nbformat_minor": 2
}
