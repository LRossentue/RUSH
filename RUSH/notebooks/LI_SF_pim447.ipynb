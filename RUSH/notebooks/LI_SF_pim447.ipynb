{
 "cells": [
  {
   "cell_type": "code",
   "execution_count": 3,
   "metadata": {},
   "outputs": [
    {
     "name": "stdout",
     "output_type": "stream",
     "text": [
      "3 440.18239601600004 4\n"
     ]
    },
    {
     "data": {
      "image/png": "[encoded data removed]",
      "text/plain": [
       "<PIL.PngImagePlugin.PngImageFile image mode=RGB size=1000x200 at 0x7857B0DA4D50>"
      ]
     },
     "execution_count": 3,
     "metadata": {},
     "output_type": "execute_result"
    }
   ],
   "source": [
    "# load dependencies\n",
    "import os\n",
    "import re\n",
    "import json\n",
    "import shutil\n",
    "import tempfile\n",
    "import rdkit\n",
    "from rdkit import Chem\n",
    "from rdkit.Chem import Draw\n",
    "from rdkit.Chem.rdMolDescriptors import CalcExactMolWt, CalcNumAtomStereoCenters, CalcNumRotatableBonds\n",
    "\n",
    "\n",
    "SH_dir = \"~/.../RuSH\"\n",
    "\n",
    "# if not unique and overwrite, will delete the previous results of the same name!\n",
    "ligand = \"pim447\"\n",
    "job_id = \"SF\"\n",
    "ligand_sdf = f'{SH_dir}/data/references/{ligand}.sdf'\n",
    "\n",
    "\n",
    "job_name = f\"LI_RL_{ligand}_{job_id}\"\n",
    "\n",
    "epochs = 1000\n",
    "allowance=0.95\n",
    "\n",
    "# --------- change these path variables as required\n",
    "reinvent_dir = os.path.expanduser(\"~/repos/Reinvent\")\n",
    "reinvent_env = os.path.expanduser(\"~/anaconda3/envs/reinvent.v3.2\")\n",
    "output_dir = os.path.expanduser(f\"~/.../LI/results/{job_name}\")\n",
    "\n",
    "# --------- do not change\n",
    "# get the notebook's root path\n",
    "try: ipynb_path\n",
    "except NameError: ipynb_path = os.getcwd()\n",
    "\n",
    "# if required, generate a folder to store the results\n",
    "overwrite = True\n",
    "try:\n",
    "    os.mkdir(output_dir)\n",
    "except FileExistsError:\n",
    "    if overwrite:\n",
    "        shutil.rmtree(output_dir)\n",
    "        os.mkdir(output_dir)\n",
    "    else:\n",
    "        pass\n",
    "\n",
    "\n",
    "\n",
    "pim447_fragments = [\n",
    "    \"C(*)1=C(C2C[C@H](C)C[C@H](N)C2)C=CN=C1\",\n",
    "    \"Fc1c([H])c([H])c([H])c(F)c(*)1\",\n",
    "]\n",
    "aha006_fragments = [\n",
    "    \"C1=CC=C(O*)C=C1\",\n",
    "    \"C1=CC=C(O*)C=C1\",\n",
    "    \"C1=CC=C(*)C=C1\",\n",
    "    \"C1=CC=C(*)C=C1\",\n",
    "]\n",
    "sr3737_fragments = [\n",
    "    \"COC1=CC(NC(C2=CC=CC(*)=C2)=O)=CC(OC)=C1OC\",\n",
    "    \"N(*)C1=C(F)C=CC=C1\",\n",
    "]\n",
    "lre001_fragments = [\n",
    "    \"Nc1nc(*)cc(Cl)n1\",\n",
    "    \"c(*)1sccc1\",\n",
    "]\n",
    "warheads = [\"|\".join(pim447_fragments)]\n",
    "\n",
    "def draw_smiles(smiles, names=None):\n",
    "    def to_mol(smi):\n",
    "        return Chem.MolFromSmiles(smi)\n",
    "    if names:   \n",
    "        return Draw.MolsToGridImage([to_mol(s) for s in smiles], molsPerRow=5,subImgSize=(200,200),\n",
    "                                    legends=names)\n",
    "    else:\n",
    "        return Draw.MolsToGridImage([to_mol(s) for s in smiles], molsPerRow=5,subImgSize=(200,200))\n",
    "    \n",
    "# PDB 5IV4\n",
    "# human soluble adenylyl cyclase in complex with the allosteric inhibitor LRE1\n",
    "\n",
    "seeds = [\"O=C(c1c([H])c([H])c(F)[c@@]([c@@]2c(F)c([H])c([H])c([H])c2F)n1)N(c3c([H])nc([H])c([H])c3[C@@]4([H])C([H])([H])[C@](N([H])[H])([H])C([H])([H])[C@@](C4([H])[H])([H])C([H])([H])[H])[H]\"] \n",
    "# pim447\n",
    "\n",
    "# methoxy fragments first\n",
    "seeds_fragments = [(\"C(*)1=C(C2C[C@H](C)C[C@H](N)C2)C=CN=C1\", \"Fc1c([H])c([H])c([H])c(F)c(*)1\"),]\n",
    "\n",
    "seeds_linkers = [ \"O=C(N[*])c1nc([*])c(F)cc1\" ]\n",
    "\n",
    "\n",
    "i = 0\n",
    "mol = Chem.MolFromSmiles(seeds[i])\n",
    "print(CalcNumAtomStereoCenters(mol),CalcExactMolWt(mol),CalcNumRotatableBonds(mol)) \n",
    "\n",
    "draw_smiles([seeds[i], seeds_linkers[i], seeds_fragments[i][0], seeds_fragments[i][1]])"
   ]
  },
  {
   "cell_type": "code",
   "execution_count": 4,
   "metadata": {},
   "outputs": [],
   "source": [
    "# initialize the dictionary\n",
    "configuration = {\n",
    "    \"version\": 3,\n",
    "    \"model_type\": \"link_invent\",\n",
    "    \"run_type\": \"reinforcement_learning\"\n",
    "}"
   ]
  },
  {
   "cell_type": "code",
   "execution_count": 5,
   "metadata": {},
   "outputs": [],
   "source": [
    "# add block to specify whether to run locally or not and\n",
    "# where to store the results and logging\n",
    "configuration[\"logging\"] = {\n",
    "    \"sender\": \"\",                          # only relevant if \"recipient\" is set to \"remote\"\n",
    "    \"recipient\": \"local\",                  # either to local logging or use a remote REST-interface\n",
    "    \"logging_path\": os.path.join(output_dir, \"progress.log\"),  # load this folder in tensorboard to \n",
    "                                                               # visualize training progress\n",
    "    \"result_folder\": os.path.join(output_dir, \"results\"),      # output directory for results\n",
    "    \"job_name\": job_name,     # set an arbitrary job name for identification\n",
    "    \"job_id\": job_id                        # only relevant if \"recipient\" is set to \"remote\"\n",
    "}"
   ]
  },
  {
   "cell_type": "markdown",
   "metadata": {},
   "source": [
    "### 3. Parameters Block\n",
    "\n",
    "This block specifies all the experiment parameters. In the cell below, we first set the hyperparameters for `Reinforcement Learning (RL)`, including:\n",
    "\n",
    "1. `\"actor\" and \"critic\"`: These are the paths to a pre-trained `Link-INVENT` generative model. One such model is provided in the /models folder in this repository and named `linkinvent.prior`. This prior is the generative model featured in the `Link-INVENT` manuscript and all details related to its training can be found in the `Supporting Information`. Generally, the `\"actor\"` and `\"critic\"` are initialized as the same pre-trained model. \n",
    "\n",
    "\n",
    "2. `\"warheads\"`: This is a list specifiying the 2 molecular sub-units (as SMILES) to link. The `\"*\"` denotes the attachment point position of each warhead and the warheads are separated using the `\"|\"` delimiter.\n",
    "\n",
    "\n",
    "3. `\"n_steps\"`: This denotes how many epochs to run `Link-INVENT`. Typically this can be set to between 100-200. In the example below, 20 is used for the `Illustrative Example` as the objective is relatively simple and thus, the agent learns to generate linkers that satisfy the desired objective quickly.\n",
    "\n",
    "\n",
    "4. `\"learning_rate\"`: This denotes the learning rate. Generally, the default 0.0001 works well.\n",
    "\n",
    "\n",
    "5. `\"batch_size\"`: The number of linkers to generate per epoch. Generally, the default 128 works well.\n",
    "\n",
    "\n",
    "6. `\"randomize_warhead\"`: Denotes whether to obtain a randomized SMILES representation of the warheads at every epoch. Generally, the default \"true\" works well. Randomizing SMILES increases the generalizability (results may cover a larger `chemical space`).\n",
    "\n",
    "7. `\"learning_strategy\"`: This denotes how the `loss function` is constructed. The default `\"dap\"` strategy and `\"sigma\" = 120 ` works well. For more information, see the `Link-INVENT` and `Lib-INVENT` manuscripts."
   ]
  },
  {
   "cell_type": "code",
   "execution_count": 6,
   "metadata": {},
   "outputs": [],
   "source": [
    "# add the \"parameters\" block\n",
    "configuration[\"parameters\"] = {}\n",
    "\n",
    "configuration[\"parameters\"] = {\n",
    "    \"actor\": os.path.join(ipynb_path, \"models/linkinvent.prior\"),   # this pre-trained prior is provided in /models\n",
    "    \"critic\": os.path.join(ipynb_path, \"models/linkinvent.prior\"),\n",
    "    \"warheads\" : warheads,\n",
    "    \"n_steps\": epochs,   # number of epochs to run Link-INVENT\n",
    "    \"learning_rate\": 0.0001,   # the default value works well but can be increased depending on training progress\n",
    "    \"batch_size\": 128,   # the default value works well\n",
    "    \"randomize_warheads\": True,\n",
    "    \"learning_strategy\": {\n",
    "        \"name\": \"dap\", \n",
    "        \"parameters\": {\n",
    "        \"sigma\": 120\n",
    "        }\n",
    "    }\n",
    "}"
   ]
  },
  {
   "cell_type": "markdown",
   "metadata": {},
   "source": [
    "#### Configure the scoring strategy\n",
    "This includes setting up the `Diversity Filters` (discussed below) and the `Scoring Function` (discussed below)."
   ]
  },
  {
   "cell_type": "code",
   "execution_count": 7,
   "metadata": {},
   "outputs": [],
   "source": [
    "configuration[\"parameters\"][\"scoring_strategy\"] = {\n",
    "    \"name\": \"link_invent\" # do not change\n",
    "}"
   ]
  },
  {
   "cell_type": "markdown",
   "metadata": {},
   "source": [
    "##### Configure Diversity Filter\n",
    "\n",
    "The Diversity Filter (DF) offers users the control over agent `exploration` (generating molecules from different `chemical space`) and `exploitation` (generating favourable molecules from similar `chemical space`). There are 3 DFs available in `Link-INVENT`:\n",
    "\n",
    "\n",
    "1. `\"IdenticalMurckoScaffold\"`: Penalizes repeated sampling of the same Bemis-Murcko scaffold. An important point to note here is that this effectively operates at the linker level since the 2 warheads are held constant. Thus, this DF ensures diverse linkers are generated.\n",
    "\n",
    "\n",
    "2. `\"NoFilterWithPenalty\"`: Penalizes repeated sampling of the same linker. The corresponding linker receives a score scaled by 0.5 (halved).\n",
    "\n",
    "\n",
    "3. `\"NoFilter\"`: No penalization.\n",
    "\n",
    "The notion of \"repeated sampling\" is governed by the `\"bucket_size\"` parameter. This denotes the maximum number of permitted linkers corresponding to the choice of DF used. Further sampling of the linker will be penalized. For example, if a linker Bemis-Murcko scaffold (denote it scaffold A) has been sampled 25 times using a `\"bucket_size\"` of 25, the 26th time scaffold A is sampled, the linker receives a score of 0. This in turn encourages the agent to explore other `chemical space`.\n",
    "\n",
    "Additional parameters include:\n",
    "\n",
    "\n",
    "1. `\"minscore\"`: Denotes the mininum score a linker (and the corresponding linked molecules) must achieve to be saved in the final output (`scaffold memory`). In practice, this can be set to 0.4 so that only linkers that at least moderately satisfy the desired objective is saved. If set to 0, every single linker generated will be saved. This could be useful if one is interested in analyizing the overall sampling behaviour of the agent.\n",
    "\n",
    "\n",
    "2. `\"minsimilarity\"`: If using the `\"IdenticalMurckoScaffold\"`, repeated sampling of the same Bemis-Murcko scaffold is penalized (as explained above). When a new Bemis-Murcko scaffold is generated by the agent, its similarity is compared to all the Bemis-Murcko scaffolds generated thus far. If there has already been a Bemis-Murcko scaffold sampled that possesses a similarity >= `\"minsimilarity\"`, the new Bemis-Murcko scaffold will populate that `bucket`. For example, consider a Bemis-Murcko scaffold A is sampled 24 times with a `\"bucket_size\"` of 25. Now consider a new (never seen before) Bemis-Murcko scaffold B is sampled. If B >= `\"minsimilarity\"`, then B will be added to the `bucket` of A. Subsequently, the next A or B sampled will result in 26 items in the bucket and would thus receive a score of 0 (penalization). This parameter can encourage more `exploration`."
   ]
  },
  {
   "cell_type": "code",
   "execution_count": 8,
   "metadata": {},
   "outputs": [],
   "source": [
    "configuration[\"parameters\"][\"scoring_strategy\"][\"diversity_filter\"] =  {\n",
    "      \"bucket_size\": 30,\n",
    "      \"minscore\": 0.4,\n",
    "      \"minsimilarity\": 0.4,\n",
    "      \"name\": \"IdenticalMurckoScaffold\"   \n",
    "}"
   ]
  },
  {
   "cell_type": "markdown",
   "metadata": {},
   "source": [
    "##### Scoring Function Definition\n",
    "The Scoring Function is the reward function used to assess the *desirability* of molecules generated by `Link-INVENT` via `RL`. An arbitrary number of components (as long as it is supported in the codebase) can be specified in the Scoring Function. Subsequently, the agent gradually learns to generate molecules that satisfy all desired objectives. \n",
    "\n",
    "An important consideration is that different components can have different ranges of raw values. These values are normalized in the interval $[0,1]$ such that the `Link-INVENT` agent can properly learn. Scores achieved by each component is aggregated to a `total score` desiring the overall *desirability* of the generated molecules. This is done either by the weighted average sum (`custom_sum`) or by a weighted geometric mean (`custom_product`). It is this `total score` that is used for the agent's policy update in the `RL` loop. For more details on `custom_sum` and `custom_product`, see the notebook in this repository: `Score_Transformations`.\n",
    "\n",
    "We now discuss how raw component values are normalized in the interval $[0,1]$. A `score transformation` is applied that transforms the raw values based on the defined function. Tuning the parameters of the transformation function allows one to control the agent's learning, e.g., one may be interested in generating molecules with < 500 MW (arbitrary example). One could specify the transformation function to give maximum reward to molecules that are indeed < 500 MW and lower reward (or no reward) otherwise. See the notebook in this repository: `Score_Transformations` for more information. "
   ]
  },
  {
   "cell_type": "markdown",
   "metadata": {},
   "source": [
    "The Scoring Function components pertaining to the `Illustrative Example` presented in this notebook are specified in the below cell."
   ]
  },
  {
   "cell_type": "code",
   "execution_count": 9,
   "metadata": {},
   "outputs": [],
   "source": [
    "scoring_function = {\n",
    "    \"name\": \"custom_product\", \n",
    "    \"parallel\": False,  # do not change                   \n",
    "    \n",
    "    \"parameters\": [\n",
    "    {\n",
    "        \"component_type\": \"RuSHScore\", \n",
    "        \"name\": \"decoration conditioned distance and ROCS shape and color\",   # arbitrary name for the component\n",
    "        \"weight\": 1,                           # the weight of the component (default: 1)\n",
    "        \"specific_parameters\": {\n",
    "            'output_dir'  : output_dir,\n",
    "            \n",
    "            # the order of these molecules should be consistent.\n",
    "            'database_from_smiles': False,\n",
    "            'database_path'  : ligand_sdf, \n",
    "            \"reference_smiles\": list(zip(seeds, seeds_fragments, seeds_linkers)), \n",
    "\n",
    "            \"partial_fragment_reward\": 0.3,\n",
    "            \"allowance\": allowance, # less strict fragments (azine was difficult to learn at 0.9)\n",
    "            \n",
    "            'oeomega_CA'  :'classic',           # see https://docs.eyesopen.com/applications/omega/omega/omega_opt_params.html\n",
    "            'oeomega_rms' : 0.5,\n",
    "            'n_conformers': 32,                # note exponential increase of compute time if not using a .db from file.\n",
    "        \n",
    "            'max_centers' : 6,    \n",
    "            'max_molwt'   : 500,  \n",
    "            'max_rotors'  : 10,   \n",
    "            \n",
    "            'ROCS_version': '2024',            # minor changes to fix bug\n",
    "            'score_cutoff': 0.8,               # see https://docs.eyesopen.com/applications/rocs/rocs/rocs_opt_params.html\n",
    "            'roc_maxconfs': 100,\n",
    "            'roc_besthits': 500,\n",
    "            'roc_timeout' : 1000, \n",
    "            \n",
    "            'mcquery'     : True, # set these to False if you want to fetch individual conformer hits. \n",
    "            'nostructs'   : True, # not useful during RL, but can be handy if you want to visualize hits, analyse etc.\n",
    "\n",
    "            'shape_weight': 1,     # does not reach 1 for exact smiles matches, and is always atleast somewhat positive (>0.2). \n",
    "            'color_weight': 1.2,   # consider adding more weight to color, as it scores generally much lower.\n",
    "            'jacc_weight' : 1.5,\n",
    "            'rocs_weight' : 1,\n",
    "            'score_operator' : 'mean', \n",
    "            'num_cores': 10,          # be nice to the cpu and leave a few cores :)\n",
    "      }\n",
    "    } ]\n",
    "}\n",
    "\n",
    "configuration[\"parameters\"][\"scoring_strategy\"][\"scoring_function\"] = scoring_function"
   ]
  },
  {
   "cell_type": "markdown",
   "metadata": {},
   "source": [
    "The dictionary has now been initialized with all parameters necessary to run `Link-INVENT`. Next, we write it out as a `JSON` which will serve as the `Configuration JSON` to run `Link-INVENT`."
   ]
  },
  {
   "cell_type": "code",
   "execution_count": 10,
   "metadata": {},
   "outputs": [],
   "source": [
    "# write out the configuration to disc\n",
    "configuration_JSON_path = os.path.join(output_dir, \"Link-INVENT_Configuration.json\")\n",
    "with open(configuration_JSON_path, 'w') as f:\n",
    "    json.dump(configuration, f, indent=4, sort_keys=False)"
   ]
  },
  {
   "cell_type": "markdown",
   "metadata": {},
   "source": [
    "The `Configuration JSON` is saved to the `output_dir` specified in the beginning of this notebook."
   ]
  },
  {
   "cell_type": "markdown",
   "metadata": {},
   "source": [
    "# Run\n",
    "Execute `Link-INVENT` directly in this jupyter notebook"
   ]
  },
  {
   "cell_type": "code",
   "execution_count": 10,
   "metadata": {},
   "outputs": [],
   "source": [
    "%%capture captured_err_stream --no-stderr\n",
    "\n",
    "# execute REINVENT from the command-line\n",
    "!{reinvent_env}/bin/python {reinvent_dir}/input.py {configuration_JSON_path}"
   ]
  },
  {
   "cell_type": "code",
   "execution_count": 11,
   "metadata": {},
   "outputs": [],
   "source": [
    "# print the output to a file, just to have it for documentation\n",
    "with open(os.path.join(output_dir, \"run.err\"), 'w') as file:\n",
    "    file.write(captured_err_stream.stdout)"
   ]
  },
  {
   "cell_type": "markdown",
   "metadata": {},
   "source": [
    "Execute in command line\n",
    "```\n",
    "# activate environment\n",
    "$ conda activate reinvent.v3.2\n",
    "\n",
    "# execute in command line\n",
    "$ python <reinvent_dir>/input.py <configuration_JSON_path>\n",
    "```"
   ]
  },
  {
   "cell_type": "markdown",
   "metadata": {},
   "source": [
    "## Analyse the results\n",
    "\n",
    "In order to analyze the run in a more intuitive way, we can use `tensorboard`:\n",
    "\n",
    "```\n",
    "# go to the root folder of the output\n",
    "$ cd <output_dir>\n",
    "\n",
    "# activate the environment\n",
    "$ conda activate reinvent.v3.2\n",
    "\n",
    "# start tensorboard\n",
    "$ tensorboard --logdir \"progress.log\"\n",
    "```\n",
    "\n",
    "Then copy the link provided to a browser window. The following figures are example plots - there is always some randomness involved. The `tensorboard` plots display both the individual scoring function components and the average overall score."
   ]
  },
  {
   "cell_type": "markdown",
   "metadata": {},
   "source": [
    "![](img/Link-INVENT_Training_Plots.png)\n",
    "The 2 components in the scoring function, `linker number of hydrogen-bond donors` (which we want to limit in the `Illustrative Example`) and the `linker number of rings` (which we want to be exactly 1) are satisfied very quickly, as exemplified by the rapid score increase. The `Average score (total score)` plot is the aggregated score of the 2 components via the `custom product` (weighted geometric mean)\n",
    "![](img/Link-INVENT_Training_Plots_2.png)\n",
    "Valid SMILES are SMILES that follow correct chemical syntax (if it can be parsed by RDKit). Number of SMILES found shows SMILES with scores over 0.4 (or other `min_score` specified in the DF setup if required. **In this notebook, this was set to 0 so all SMILES generated were collected**).\n"
   ]
  },
  {
   "cell_type": "markdown",
   "metadata": {},
   "source": [
    "## Scaffold Memory: where the top compounds generated are saved\n",
    "All valid compounds with scores over 0.4 (**In this notebook, this was set to 0 so all SMILES generated were collected**) can be found in the `scaffold_memory.csv` file.The SMILES are ranked by their total scores from high to low. \n",
    "\n",
    "**note: scaffold_memory.csv contains SMILES, Scaffolds, Scores from different components and Total score.**"
   ]
  },
  {
   "cell_type": "markdown",
   "metadata": {},
   "source": [
    "First, we show a few lines of the `scaffold_memory.csv`."
   ]
  },
  {
   "cell_type": "code",
   "execution_count": null,
   "metadata": {},
   "outputs": [],
   "source": [
    "# import needed packages\n",
    "import pandas as pd\n",
    "\n",
    "scaffold_memory_path = os.path.join(output_dir, 'results/scaffold_memory.csv')\n",
    "df = pd.read_csv(scaffold_memory_path)\n",
    "df.head()"
   ]
  },
  {
   "cell_type": "markdown",
   "metadata": {},
   "source": [
    "Next, we show a few example molecules."
   ]
  },
  {
   "cell_type": "code",
   "execution_count": null,
   "metadata": {},
   "outputs": [],
   "source": [
    "# import needed packages\n",
    "from rdkit import Chem\n",
    "from rdkit.Chem import Draw\n",
    "\n",
    "smile_list = df['SMILES'][:6].to_list() # change the number here to show more/less top compounds\n",
    "mols = [Chem.MolFromSmiles(smiles) for smiles in smile_list]\n",
    "Draw.MolsToGridImage(mols)"
   ]
  }
 ],
 "metadata": {
  "kernelspec": {
   "display_name": "Python 3",
   "language": "python",
   "name": "python3"
  },
  "language_info": {
   "codemirror_mode": {
    "name": "ipython",
    "version": 3
   },
   "file_extension": ".py",
   "mimetype": "text/x-python",
   "name": "python",
   "nbconvert_exporter": "python",
   "pygments_lexer": "ipython3",
   "version": "3.7.7"
  }
 },
 "nbformat": 4,
 "nbformat_minor": 2
}
